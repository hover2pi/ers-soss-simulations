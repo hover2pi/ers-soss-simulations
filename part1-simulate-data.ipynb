{
 "cells": [
  {
   "cell_type": "code",
   "execution_count": 4,
   "metadata": {},
   "outputs": [],
   "source": [
    "# Import stardard python libraries:\n",
    "import numpy as np\n",
    "import matplotlib.pyplot as plt\n",
    "\n",
    "# Import astropy, mirage, seaborn for plots:\n",
    "import astropy.units as q\n",
    "from mirage.soss_simulator import SossSim\n",
    "import seaborn\n",
    "seaborn.set_style('ticks')\n",
    "\n",
    "# Import utils script:\n",
    "import utils"
   ]
  },
  {
   "cell_type": "markdown",
   "metadata": {},
   "source": [
    "## 1. Introduction\n",
    "---------------\n",
    "\n",
    "Let's first use our `utils` script to generate a stellar spectrum consistent with WASP-43. First, define stellar properties of WASP-43:"
   ]
  },
  {
   "cell_type": "code",
   "execution_count": 2,
   "metadata": {},
   "outputs": [],
   "source": [
    "teff, logg, feh, jmag = 4520, 4.6, -0.01, 8"
   ]
  },
  {
   "cell_type": "markdown",
   "metadata": {},
   "source": [
    "Our `utils` script can get the closest ATLAS or PHOENIX spectrum for those properties. Let's use the ATLAS spectrum:"
   ]
  },
  {
   "cell_type": "code",
   "execution_count": 3,
   "metadata": {},
   "outputs": [],
   "source": [
    "star_wavelength, star_flux = utils.get_stellar_model(teff=teff, logg=logg, feh=feh, jmag=jmag)"
   ]
  },
  {
   "cell_type": "markdown",
   "metadata": {},
   "source": [
    "Let's plot this:"
   ]
  },
  {
   "cell_type": "code",
   "execution_count": 7,
   "metadata": {},
   "outputs": [
    {
     "data": {
      "text/plain": [
       "Text(0.5, 1.0, 'Stellar spectrum of WASP-43')"
      ]
     },
     "execution_count": 7,
     "metadata": {},
     "output_type": "execute_result"
    },
    {
     "data": {
      "image/png": "[encoded data removed]",
      "text/plain": [
       "<Figure size 432x288 with 1 Axes>"
      ]
     },
     "metadata": {},
     "output_type": "display_data"
    }
   ],
   "source": [
    "plt.plot(star_wavelength, star_flux)\n",
    "plt.xlim(0.4,3.)\n",
    "plt.xlabel('Wavelength (microns)')\n",
    "plt.ylabel('Flux (erg/s/cm$^2$/angstrom)')\n",
    "plt.title('Stellar spectrum of WASP-43')"
   ]
  },
  {
   "cell_type": "markdown",
   "metadata": {},
   "source": [
    "Let's similarly define a flat transit spectrum for WASP-43b:"
   ]
  },
  {
   "cell_type": "code",
   "execution_count": 8,
   "metadata": {},
   "outputs": [],
   "source": [
    "planet_wavelength, planet_tspectrum = np.copy(star_wavelength), np.ones([len(star_wavelength)])*0.0136059394"
   ]
  },
  {
   "cell_type": "markdown",
   "metadata": {},
   "source": [
    "## 2. Running `mirage`\n",
    "---------------\n",
    "\n",
    "All right, now we can do a test run of `mirage` with SOSS. This doesn't do much right now, however, because:\n",
    "\n",
    "1. The `yaml` parameter file used below sets a 3-group, 3-integration exposure.\n",
    "2. The planet properties have not been defined (e.g., orbital parameters, etc.).\n",
    "3. The time of the start of the exposure has not been chosen such that we should observe a transit based on the planet properties in the previous point (this latest can be done from the parameter file itself).\n",
    "\n",
    "Let's give it a test run nonetheless --- note I'm using _my_ fork of `mirage` (https://github.com/nespinoza/mirage/tree/add_soss) which fixes some bugs we were seeing:"
   ]
  },
  {
   "cell_type": "code",
   "execution_count": 10,
   "metadata": {},
   "outputs": [],
   "source": [
    "sim = SossSim(paramfile = 'files/niriss_soss_substrip256_clear.yaml', \\\n",
    "              star=[star_wavelength, star_flux], \\\n",
    "              planet=[planet_wavelength, planet_tspectrum])"
   ]
  },
  {
   "cell_type": "markdown",
   "metadata": {},
   "source": [
    "And, let's create the exposure! This should take a while (like 45 mins...):"
   ]
  },
  {
   "cell_type": "code",
   "execution_count": null,
   "metadata": {},
   "outputs": [
    {
     "name": "stdout",
     "output_type": "stream",
     "text": [
      "2021-03-12 17:46:32,289 - mirage.soss_simulator - INFO - \n",
      "\n",
      "Running soss_simulator....\n",
      "\n"
     ]
    },
    {
     "name": "stderr",
     "output_type": "stream",
     "text": [
      "2021-03-12 17:46:32,289 - stpipe - INFO - \n",
      "\n",
      "Running soss_simulator....\n",
      "\n"
     ]
    },
    {
     "name": "stdout",
     "output_type": "stream",
     "text": [
      "2021-03-12 17:46:32,289 - stpipe - INFO - \n",
      "\n",
      "Running soss_simulator....\n",
      "\n",
      "2021-03-12 17:46:32,292 - mirage.soss_simulator - INFO - Using parameter file: \n"
     ]
    },
    {
     "name": "stderr",
     "output_type": "stream",
     "text": [
      "2021-03-12 17:46:32,292 - stpipe - INFO - Using parameter file: \n"
     ]
    },
    {
     "name": "stdout",
     "output_type": "stream",
     "text": [
      "2021-03-12 17:46:32,292 - stpipe - INFO - Using parameter file: \n",
      "2021-03-12 17:46:32,294 - mirage.soss_simulator - INFO - files/niriss_soss_substrip256_clear.yaml\n"
     ]
    },
    {
     "name": "stderr",
     "output_type": "stream",
     "text": [
      "2021-03-12 17:46:32,294 - stpipe - INFO - files/niriss_soss_substrip256_clear.yaml\n"
     ]
    },
    {
     "name": "stdout",
     "output_type": "stream",
     "text": [
      "2021-03-12 17:46:32,294 - stpipe - INFO - files/niriss_soss_substrip256_clear.yaml\n",
      "Simulating WASP43 in WASP43 transit observation\n",
      "Configuration: SUBSTRIP256 + CLEAR\n",
      "Groups: 3, Integrations: 3\n",
      "\n",
      "Constructing frames for chunk 1/1...\n"
     ]
    }
   ],
   "source": [
    "sim.create()"
   ]
  },
  {
   "cell_type": "code",
   "execution_count": null,
   "metadata": {},
   "outputs": [],
   "source": []
  }
 ],
 "metadata": {
  "kernelspec": {
   "display_name": "Python 3",
   "language": "python",
   "name": "python3"
  },
  "language_info": {
   "codemirror_mode": {
    "name": "ipython",
    "version": 3
   },
   "file_extension": ".py",
   "mimetype": "text/x-python",
   "name": "python",
   "nbconvert_exporter": "python",
   "pygments_lexer": "ipython3",
   "version": "3.7.10"
  }
 },
 "nbformat": 4,
 "nbformat_minor": 4
}
